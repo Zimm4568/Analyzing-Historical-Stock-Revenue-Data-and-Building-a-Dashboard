!pip install yfinance
!pip install matplotlib

import yfinance as yf
import requests
from bs4 import BeautifulSoup
import pandas as pd
import matplotlib.pyplot as plt

# Q1
tesla = yf.Ticker("TSLA")
tesla_data = tesla.history(period="max")
tesla_data.reset_index(inplace=True)

print(tesla_data.head())

# Q2
url = "https://cf-courses-data.s3.us.cloud-object-storage.appdomain.cloud/IBMDeveloperSkillsNetwork-PY0220EN-SkillsNetwork/labs/project/revenue.htm"
response = requests.get(url)
soup = BeautifulSoup(response.text, "html.parser")

tables = soup.find_all("table")
revenue_table = tables[1]
rows = revenue_table.find_all("tr")


tesla_revenue = pd.DataFrame(columns=["Date", "Revenue"])
for row in rows[1:]:
    cols = row.find_all("td")
    date = cols[0].text.strip()
    revenue = cols[1].text.strip()
    tesla_revenue = pd.concat([tesla_revenue, pd.DataFrame({"Date": [date], "Revenue": [revenue]})], ignore_index=True)

print(tesla_revenue.tail())

# Q3
gamestop = yf.Ticker("GME")
gamestop_data = gamestop.history(period="max")
gamestop_data.reset_index(inplace=True)

print(gamestop_data.head())

# Q4
url = "https://cf-courses-data.s3.us.cloud-object-storage.appdomain.cloud/IBMDeveloperSkillsNetwork-PY0220EN-SkillsNetwork/labs/project/stock.html"
response = requests.get(url)
soup = BeautifulSoup(response.text, "html.parser")

tables = soup.find_all("table")
revenue_table = tables[1]
rows = revenue_table.find_all("tr")


gamestop_revenue = pd.DataFrame(columns=["Date", "Revenue"])
for row in rows[1:]:
    cols = row.find_all("td")
    date = cols[0].text.strip()
    revenue = cols[1].text.strip()
    gamestop_revenue = pd.concat([gamestop_revenue, pd.DataFrame({"Date": [date], "Revenue": [revenue]})], ignore_index=True)

print(gamestop_revenue.tail())



# Q5
plt.figure(figsize=(10, 5))
plt.plot(tesla_data['Date'], tesla_data['Close'], label="Stock Price", color='blue')
plt.title("Tesla Stock Prices Over Time")
plt.xlabel("Date")
plt.ylabel("Stock Price (USD)")
plt.legend()
plt.grid()
plt.show()

plt.figure(figsize=(10, 5))
plt.plot(pd.to_datetime(tesla_revenue['Date']), tesla_revenue['Revenue'], label="Revenue", color='green')
plt.title("Tesla Revenue Over Time")
plt.xlabel("Date")
plt.ylabel("Revenue (USD)")
plt.legend()
plt.grid()
plt.show()




# Q6
plt.figure(figsize=(10, 5))
plt.plot(gamestop_data['Date'], gamestop_data['Close'], label="Stock Price", color='red')
plt.title("GameStop Stock Prices Over Time")
plt.xlabel("Date")
plt.ylabel("Stock Price (USD)")
plt.legend()
plt.grid()
plt.show()

plt.figure(figsize=(10, 5))
plt.plot(pd.to_datetime(gamestop_revenue['Date']), gamestop_revenue['Revenue'], label="Revenue", color='purple')
plt.title("GameStop Revenue Over Time")
plt.xlabel("Date")
plt.ylabel("Revenue (USD)")
plt.legend()
plt.grid()
plt.show()
